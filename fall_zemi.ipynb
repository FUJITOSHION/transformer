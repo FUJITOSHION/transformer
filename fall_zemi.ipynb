{
  "nbformat": 4,
  "nbformat_minor": 0,
  "metadata": {
    "colab": {
      "name": "fall_zemi.ipynb",
      "provenance": [],
      "authorship_tag": "ABX9TyOKF/pZcxFFaVHBritqVPQs",
      "include_colab_link": true
    },
    "kernelspec": {
      "name": "python3",
      "display_name": "Python 3"
    }
  },
  "cells": [
    {
      "cell_type": "markdown",
      "metadata": {
        "id": "view-in-github",
        "colab_type": "text"
      },
      "source": [
        "<a href=\"https://colab.research.google.com/github/FUJITOSHION/transformer/blob/master/fall_zemi.ipynb\" target=\"_parent\"><img src=\"https://colab.research.google.com/assets/colab-badge.svg\" alt=\"Open In Colab\"/></a>"
      ]
    },
    {
      "cell_type": "markdown",
      "metadata": {
        "id": "MD9O0JkXNA95"
      },
      "source": [
        "# 候補\n",
        "- refomerを行う => transfomerと比較\n",
        "- 同等の精度で計算量の違いを表す。\n",
        "\n"
      ]
    },
    {
      "cell_type": "code",
      "metadata": {
        "id": "_ln_wZ7CUKb6"
      },
      "source": [
        "import torch.nn as nn"
      ],
      "execution_count": null,
      "outputs": []
    },
    {
      "cell_type": "code",
      "metadata": {
        "id": "vZmti40BJb_Z"
      },
      "source": [
        "class base(nn.Module):\n",
        "    def __init__(self, d_model = 300):\n",
        "        super().__init__()\n",
        "\n",
        "        "
      ],
      "execution_count": null,
      "outputs": []
    },
    {
      "cell_type": "code",
      "metadata": {
        "id": "myToCeYbUDHK"
      },
      "source": [
        ""
      ],
      "execution_count": null,
      "outputs": []
    }
  ]
}