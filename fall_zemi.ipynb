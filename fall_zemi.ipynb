{
  "nbformat": 4,
  "nbformat_minor": 0,
  "metadata": {
    "colab": {
      "name": "fall_zemi.ipynb",
      "provenance": [],
      "collapsed_sections": [],
      "authorship_tag": "ABX9TyObjdTb660za/RqVxzisjgX",
      "include_colab_link": true
    },
    "kernelspec": {
      "name": "python3",
      "display_name": "Python 3"
    },
    "accelerator": "GPU"
  },
  "cells": [
    {
      "cell_type": "markdown",
      "metadata": {
        "id": "view-in-github",
        "colab_type": "text"
      },
      "source": [
        "<a href=\"https://colab.research.google.com/github/FUJITOSHION/transformer/blob/master/fall_zemi.ipynb\" target=\"_parent\"><img src=\"https://colab.research.google.com/assets/colab-badge.svg\" alt=\"Open In Colab\"/></a>"
      ]
    },
    {
      "cell_type": "markdown",
      "metadata": {
        "id": "MD9O0JkXNA95"
      },
      "source": [
        "# 候補\n",
        "- refomerを行う => transfomerと比較\n",
        "- 同等の精度で計算量の違いを表す。\n",
        "\n",
        "## transfomerの問題点\n",
        "\n",
        "attentionの計算量が多い\n",
        "特に内積QK\n",
        "refomerではlocality-sensitive hashing(LSH)にを使う。\n",
        "\n",
        "## 注意\n",
        "実際のtransformerはMluti-Head-attentionだが今回はsimple transfomerを使う。\n"
      ]
    },
    {
      "cell_type": "markdown",
      "metadata": {
        "id": "uqOZceWcJN2x"
      },
      "source": [
        "## Transformerの構造\n",
        "1. 文章の単語ID列\n",
        "2. Embedderモジュール(word_id to word_vec)\n",
        "3. positionalEncoder\n",
        "4. TranformerBlock * 2\n",
        "    1. LayerNormalization\n",
        "    2. Attention(self-attention)\n",
        "    3. Dropout\n",
        "    4. Layer Normalization\n",
        "    5. FeedForwad\n",
        "    6. DropOut\n",
        "5. clasificationHead"
      ]
    },
    {
      "cell_type": "code",
      "metadata": {
        "colab": {
          "base_uri": "https://localhost:8080/"
        },
        "id": "x6ZzKZv2uu1V",
        "outputId": "de081d52-1152-4fe7-ac16-b98548e985aa"
      },
      "source": [
        "!nvidia-smi"
      ],
      "execution_count": null,
      "outputs": [
        {
          "output_type": "stream",
          "text": [
            "Tue Jan 26 09:40:10 2021       \n",
            "+-----------------------------------------------------------------------------+\n",
            "| NVIDIA-SMI 460.32.03    Driver Version: 418.67       CUDA Version: 10.1     |\n",
            "|-------------------------------+----------------------+----------------------+\n",
            "| GPU  Name        Persistence-M| Bus-Id        Disp.A | Volatile Uncorr. ECC |\n",
            "| Fan  Temp  Perf  Pwr:Usage/Cap|         Memory-Usage | GPU-Util  Compute M. |\n",
            "|                               |                      |               MIG M. |\n",
            "|===============================+======================+======================|\n",
            "|   0  Tesla P100-PCIE...  Off  | 00000000:00:04.0 Off |                    0 |\n",
            "| N/A   35C    P0    27W / 250W |      0MiB / 16280MiB |      0%      Default |\n",
            "|                               |                      |                 ERR! |\n",
            "+-------------------------------+----------------------+----------------------+\n",
            "                                                                               \n",
            "+-----------------------------------------------------------------------------+\n",
            "| Processes:                                                                  |\n",
            "|  GPU   GI   CI        PID   Type   Process name                  GPU Memory |\n",
            "|        ID   ID                                                   Usage      |\n",
            "|=============================================================================|\n",
            "|  No running processes found                                                 |\n",
            "+-----------------------------------------------------------------------------+\n"
          ],
          "name": "stdout"
        }
      ]
    },
    {
      "cell_type": "code",
      "metadata": {
        "colab": {
          "base_uri": "https://localhost:8080/"
        },
        "id": "6SNvhtWz3APy",
        "outputId": "5cea6ca4-6145-455e-cc67-559aca5952da"
      },
      "source": [
        "from model import TransformerClassification\n",
        "from train_model import train_model\n",
        "import ipython_ready as ir\n",
        "import torch.nn as nn\n",
        "import torch.optim as optim\n",
        "\n",
        "\n",
        "dl_class = ir.GetDataLoader()\n",
        "dl_dict, TEXT = dl_class()\n",
        "net = TransformerClassification(TEXT.vocab.vectors)\n",
        "\n",
        "\n",
        "def weights_init(m):\n",
        "    classname = m.__class__.__name__\n",
        "    if classname.find('Linear') != -1:\n",
        "        # Liner層の初期化\n",
        "        nn.init.kaiming_normal_(m.weight)\n",
        "        if m.bias is not None:\n",
        "            nn.init.constant_(m.bias, 0.0)\n",
        "\n",
        "\n",
        "# 訓練モードに設定\n",
        "net.train()\n",
        "\n",
        "# TransformerBlockモジュールを初期化実行\n",
        "net.net3_1.apply(weights_init)\n",
        "net.net3_2.apply(weights_init)\n",
        "\n",
        "num_epochs = 10\n",
        "criterion = nn.CrossEntropyLoss()\n",
        "# nn.LogSoftmax()を計算してからnn.NLLLoss(negative log likelihood loss)を計算\n",
        "\n",
        "# 最適化手法の設定\n",
        "learning_rate = 2e-5\n",
        "optimizer = optim.Adam(net.parameters(), lr=learning_rate)\n",
        "net_trained = train_model(net, dl_dict,\n",
        "                          criterion, optimizer, num_epochs=num_epochs)"
      ],
      "execution_count": null,
      "outputs": [
        {
          "output_type": "stream",
          "text": [
            "---------------\n",
            "finish make folder\n",
            "---------------\n",
            "---------------\n",
            "get imdb\n",
            "---------------\n",
            "---------------\n",
            "open tar file\n",
            "---------------\n",
            "---------------\n",
            "to tsv\n",
            "---------------\n",
            "---------------\n",
            "finish dataloader\n",
            "---------------\n",
            "---------------\n",
            "finish make folder\n",
            "---------------\n",
            "---------------\n",
            "get imdb\n",
            "---------------\n",
            "---------------\n",
            "open tar file\n",
            "---------------\n",
            "---------------\n",
            "to tsv\n",
            "---------------\n",
            "---------------\n",
            "finish dataloader\n",
            "---------------\n",
            "使用デバイス： cuda:0\n",
            "-----start-------\n",
            "Epoch 1/10 | train |  Loss: 0.5641 Acc: 0.7004\n",
            "Epoch 1/10 |  val  |  Loss: 0.4205 Acc: 0.8090\n",
            "Epoch 2/10 | train |  Loss: 0.4207 Acc: 0.8129\n",
            "Epoch 2/10 |  val  |  Loss: 0.3932 Acc: 0.8196\n",
            "Epoch 3/10 | train |  Loss: 0.3898 Acc: 0.8293\n",
            "Epoch 3/10 |  val  |  Loss: 0.3676 Acc: 0.8398\n",
            "Epoch 4/10 | train |  Loss: 0.3702 Acc: 0.8365\n",
            "Epoch 4/10 |  val  |  Loss: 0.3783 Acc: 0.8354\n",
            "Epoch 5/10 | train |  Loss: 0.3562 Acc: 0.8460\n",
            "Epoch 5/10 |  val  |  Loss: 0.3597 Acc: 0.8456\n",
            "Epoch 6/10 | train |  Loss: 0.3454 Acc: 0.8507\n",
            "Epoch 6/10 |  val  |  Loss: 0.3501 Acc: 0.8478\n",
            "Epoch 7/10 | train |  Loss: 0.3373 Acc: 0.8539\n",
            "Epoch 7/10 |  val  |  Loss: 0.3524 Acc: 0.8464\n",
            "Epoch 8/10 | train |  Loss: 0.3282 Acc: 0.8594\n",
            "Epoch 8/10 |  val  |  Loss: 0.3570 Acc: 0.8464\n",
            "Epoch 9/10 | train |  Loss: 0.3220 Acc: 0.8617\n",
            "Epoch 9/10 |  val  |  Loss: 0.3606 Acc: 0.8420\n",
            "Epoch 10/10 | train |  Loss: 0.3181 Acc: 0.8628\n",
            "Epoch 10/10 |  val  |  Loss: 0.3537 Acc: 0.8498\n"
          ],
          "name": "stdout"
        }
      ]
    },
    {
      "cell_type": "code",
      "metadata": {
        "colab": {
          "base_uri": "https://localhost:8080/"
        },
        "id": "GHjFOkNV6NFz",
        "outputId": "a0257665-840a-4c5f-e79f-f2c31a772e80"
      },
      "source": [
        "import torch\n",
        "device = torch.device(\"cuda:0\" if torch.cuda.is_available() else \"cpu\")\n",
        "\n",
        "net_trained.eval()   # モデルを検証モードに\n",
        "net_trained.to(device)\n",
        "\n",
        "epoch_corrects = 0  # epochの正解数\n",
        "\n",
        "for batch in (dl_dict['test']):  # testデータのDataLoader\n",
        "    # batchはTextとLableの辞書オブジェクト\n",
        "    \n",
        "    # GPUが使えるならGPUにデータを送る\n",
        "    inputs = batch.Text[0].to(device)  # 文章\n",
        "    labels = batch.Label.to(device)  # ラベル\n",
        "\n",
        "    # 順伝搬（forward）計算\n",
        "    with torch.set_grad_enabled(False):\n",
        "\n",
        "        # mask作成\n",
        "        input_pad = 1  # 単語のIDにおいて、'<pad>': 1 なので\n",
        "        input_mask = (inputs != input_pad)\n",
        "\n",
        "        # Transformerに入力\n",
        "        outputs, _, _ = net_trained(inputs, input_mask)\n",
        "        _, preds = torch.max(outputs, 1)  # ラベルを予測\n",
        "\n",
        "        # 結果の計算\n",
        "        # 正解数の合計を更新\n",
        "        epoch_corrects += torch.sum(preds == labels.data)\n",
        "\n",
        "# 正解率\n",
        "epoch_acc = epoch_corrects.double() / len(dl_dict['test'].dataset)\n",
        "\n",
        "print('テストデータ{}個での正解率：{:.4f}'.format(len(dl_dict['test'].dataset),epoch_acc))"
      ],
      "execution_count": null,
      "outputs": [
        {
          "output_type": "stream",
          "text": [
            "テストデータ25000個での正解率：0.8449\n"
          ],
          "name": "stdout"
        }
      ]
    },
    {
      "cell_type": "code",
      "metadata": {
        "id": "raiti3ePH118"
      },
      "source": [
        "def highlight(word, attn):\n",
        "    \"Attentionの値が大きいと文字の背景が濃い赤になるhtmlを出力させる関数\"\n",
        "\n",
        "    html_color = '#%02X%02X%02X' % (\n",
        "        255, int(255*(1 - attn)), int(255*(1 - attn)))\n",
        "    return '<span style=\"background-color: {}\"> {}</span>'.format(html_color, word)\n",
        "\n",
        "\n",
        "def mk_html(index, batch, preds, normlized_weights_1, normlized_weights_2, TEXT):\n",
        "    \"HTMLデータを作成する\"\n",
        "\n",
        "    # indexの結果を抽出\n",
        "    sentence = batch.Text[0][index]  # 文章\n",
        "    label = batch.Label[index]  # ラベル\n",
        "    pred = preds[index]  # 予測\n",
        "\n",
        "    # indexのAttentionを抽出と規格化\n",
        "    attens1 = normlized_weights_1[index, 0, :]  # 0番目の<cls>のAttention\n",
        "    attens1 /= attens1.max()\n",
        "\n",
        "    attens2 = normlized_weights_2[index, 0, :]  # 0番目の<cls>のAttention\n",
        "    attens2 /= attens2.max()\n",
        "\n",
        "    # ラベルと予測結果を文字に置き換え\n",
        "    if label == 0:\n",
        "        label_str = \"Negative\"\n",
        "    else:\n",
        "        label_str = \"Positive\"\n",
        "\n",
        "    if pred == 0:\n",
        "        pred_str = \"Negative\"\n",
        "    else:\n",
        "        pred_str = \"Positive\"\n",
        "\n",
        "    # 表示用のHTMLを作成する\n",
        "    html = '正解ラベル：{}<br>推論ラベル：{}<br><br>'.format(label_str, pred_str)\n",
        "\n",
        "    # 1段目のAttention\n",
        "    html += '[TransformerBlockの1段目のAttentionを可視化]<br>'\n",
        "    for word, attn in zip(sentence, attens1):\n",
        "        html += highlight(TEXT.vocab.itos[word], attn)\n",
        "    html += \"<br><br>\"\n",
        "\n",
        "    # 2段目のAttention\n",
        "    html += '[TransformerBlockの2段目のAttentionを可視化]<br>'\n",
        "    for word, attn in zip(sentence, attens2):\n",
        "        html += highlight(TEXT.vocab.itos[word], attn)\n",
        "\n",
        "    html += \"<br><br>\"\n",
        "\n",
        "    return html"
      ],
      "execution_count": null,
      "outputs": []
    },
    {
      "cell_type": "code",
      "metadata": {
        "colab": {
          "base_uri": "https://localhost:8080/",
          "height": 272
        },
        "id": "2wW3-lpEIIQS",
        "outputId": "35615e2b-7299-4f43-c98e-bb3e269539ac"
      },
      "source": [
        "\n",
        "from IPython.display import HTML\n",
        "\n",
        "# Transformerで処理\n",
        "\n",
        "# ミニバッチの用意\n",
        "batch = next(iter(dl_dict['test']))\n",
        "\n",
        "# GPUが使えるならGPUにデータを送る\n",
        "inputs = batch.Text[0].to(device)  # 文章\n",
        "labels = batch.Label.to(device)  # ラベル\n",
        "\n",
        "# mask作成\n",
        "input_pad = 1  # 単語のIDにおいて、'<pad>': 1 なので\n",
        "input_mask = (inputs != input_pad)\n",
        "\n",
        "# Transformerに入力\n",
        "outputs, normlized_weights_1, normlized_weights_2 = net_trained(\n",
        "    inputs, input_mask)\n",
        "_, preds = torch.max(outputs, 1)  # ラベルを予測\n",
        "\n",
        "\n",
        "index = 3  # 出力させたいデータ\n",
        "html_output = mk_html(index, batch, preds, normlized_weights_1,\n",
        "                      normlized_weights_2, TEXT)  # HTML作成\n",
        "HTML(html_output)  # HTML形式で出力"
      ],
      "execution_count": null,
      "outputs": [
        {
          "output_type": "execute_result",
          "data": {
            "text/html": [
              "正解ラベル：Positive<br>推論ラベル：Positive<br><br>[TransformerBlockの1段目のAttentionを可視化]<br><span style=\"background-color: #FFFDFD\"> <cls></span><span style=\"background-color: #FFFDFD\"> while</span><span style=\"background-color: #FFF6F6\"> all</span><span style=\"background-color: #FFFDFD\"> of</span><span style=\"background-color: #FFFEFE\"> the</span><span style=\"background-color: #FFFDFD\"> fleischer</span><span style=\"background-color: #FFFCFC\"> famous</span><span style=\"background-color: #FFFDFD\"> studios</span><span style=\"background-color: #FFF6F6\"> superman</span><span style=\"background-color: #FFF8F8\"> cartoons</span><span style=\"background-color: #FFF8F8\"> are</span><span style=\"background-color: #FF0000\"> excellent</span><span style=\"background-color: #FFFEFE\"> ,</span><span style=\"background-color: #FFF2F2\"> billion</span><span style=\"background-color: #FFFBFB\"> dollar</span><span style=\"background-color: #FFD2D2\"> limited</span><span style=\"background-color: #FFFEFE\"> ,</span><span style=\"background-color: #FFFEFE\"> the</span><span style=\"background-color: #FFFEFE\"> third</span><span style=\"background-color: #FFFEFE\"> in</span><span style=\"background-color: #FFFEFE\"> the</span><span style=\"background-color: #FFFDFD\"> series</span><span style=\"background-color: #FFFEFE\"> ,</span><span style=\"background-color: #FFF5F5\"> is</span><span style=\"background-color: #FFE4E4\"> probably</span><span style=\"background-color: #FFFEFE\"> the</span><span style=\"background-color: #FF9191\"> best</span><span style=\"background-color: #FFFEFE\"> of</span><span style=\"background-color: #FFFEFE\"> the</span><span style=\"background-color: #FFFAFA\"> lot</span><span style=\"background-color: #FFFEFE\"> in</span><span style=\"background-color: #FFFDFD\"> terms</span><span style=\"background-color: #FFFEFE\"> of</span><span style=\"background-color: #FFF4F4\"> overall</span><span style=\"background-color: #FFF4F4\"> animation</span><span style=\"background-color: #FFFEFE\"> ,</span><span style=\"background-color: #FFDFDF\"> plot</span><span style=\"background-color: #FFFEFE\"> ,</span><span style=\"background-color: #FFFEFE\"> and</span><span style=\"background-color: #FFD8D8\"> pacing</span><span style=\"background-color: #FFFDFD\"> .</span><span style=\"background-color: #FFFAFA\"> why</span><span style=\"background-color: #FFFCFC\"> it</span><span style=\"background-color: #FFEAEA\"> wasn</span><span style=\"background-color: #FFFCFC\"> t</span><span style=\"background-color: #FFFDFD\"> even</span><span style=\"background-color: #FFCFCF\"> nominated</span><span style=\"background-color: #FFFEFE\"> for</span><span style=\"background-color: #FFF8F8\"> an</span><span style=\"background-color: #FFF5F5\"> oscar</span><span style=\"background-color: #FFFDFD\"> as</span><span style=\"background-color: #FF5454\"> best</span><span style=\"background-color: #FFE5E5\"> animated</span><span style=\"background-color: #FFF4F4\"> short</span><span style=\"background-color: #FFFDFD\"> for</span><span style=\"background-color: #FFFCFC\"> 1942</span><span style=\"background-color: #FFB3B3\"> incredibly</span><span style=\"background-color: #FFE2E2\"> enough</span><span style=\"background-color: #FFFDFD\"> ,</span><span style=\"background-color: #FFF8F8\"> only</span><span style=\"background-color: #FFFEFE\"> the</span><span style=\"background-color: #FFFDFD\"> first</span><span style=\"background-color: #FFF6F6\"> one</span><span style=\"background-color: #FFFBFB\"> was</span><span style=\"background-color: #FFFEFE\"> in</span><span style=\"background-color: #FFBCBC\"> inexplicable</span><span style=\"background-color: #FFFCFC\"> .</span><span style=\"background-color: #FFF1F1\"> here</span><span style=\"background-color: #FFFEFE\"> ,</span><span style=\"background-color: #FFFEFE\"> lois</span><span style=\"background-color: #FFFEFE\"> lane</span><span style=\"background-color: #FFF6F6\"> is</span><span style=\"background-color: #FFF3F3\"> assigned</span><span style=\"background-color: #FFFEFE\"> to</span><span style=\"background-color: #FFFCFC\"> cover</span><span style=\"background-color: #FFFEFE\"> the</span><span style=\"background-color: #FF8D8D\"> transfer</span><span style=\"background-color: #FFFDFD\"> of</span><span style=\"background-color: #FFF7F7\"> one</span><span style=\"background-color: #FFEDED\"> billion</span><span style=\"background-color: #FFFAFA\"> dollars</span><span style=\"background-color: #FFFEFE\"> in</span><span style=\"background-color: #FFF8F8\"> gold</span><span style=\"background-color: #FFFEFE\"> to</span><span style=\"background-color: #FFFEFE\"> the</span><span style=\"background-color: #FFEDED\"> u</span><span style=\"background-color: #FFFCFC\"> .</span><span style=\"background-color: #FFFDFD\"> s</span><span style=\"background-color: #FFFCFC\"> .</span><span style=\"background-color: #FFFCFC\"> <unk></span><span style=\"background-color: #FFFCFC\"> .</span><span style=\"background-color: #FFFCFC\"> masked</span><span style=\"background-color: #FFFCFC\"> gangsters</span><span style=\"background-color: #FFFEFE\"> in</span><span style=\"background-color: #FFFEFE\"> their</span><span style=\"background-color: #FFF5F5\"> super</span><span style=\"background-color: #FFE2E2\"> powered</span><span style=\"background-color: #FFFDFD\"> for</span><span style=\"background-color: #FFFBFB\"> 1942</span><span style=\"background-color: #FFFEFE\"> car</span><span style=\"background-color: #FFFDFD\"> take</span><span style=\"background-color: #FFF9F9\"> off</span><span style=\"background-color: #FFFEFE\"> after</span><span style=\"background-color: #FFFEFE\"> the</span><span style=\"background-color: #FFFEFE\"> train</span><span style=\"background-color: #FFFDFD\"> ,</span><span style=\"background-color: #FFE6E6\"> determined</span><span style=\"background-color: #FFFEFE\"> to</span><span style=\"background-color: #FFFDFD\"> get</span><span style=\"background-color: #FFFCFC\"> that</span><span style=\"background-color: #FFF7F7\"> gold</span><span style=\"background-color: #FFFCFC\"> .</span><span style=\"background-color: #FFF1F1\"> without</span><span style=\"background-color: #FFFAFA\"> giving</span><span style=\"background-color: #FFE0E0\"> too</span><span style=\"background-color: #FF8989\"> much</span><span style=\"background-color: #FFEEEE\"> away</span><span style=\"background-color: #FFFDFD\"> ,</span><span style=\"background-color: #FFFDFD\"> what</span><span style=\"background-color: #FFF9F9\"> ensues</span><span style=\"background-color: #FFF6F6\"> is</span><span style=\"background-color: #FFFDFD\"> a</span><span style=\"background-color: #FFF6F6\"> thrill</span><span style=\"background-color: #FFFEFE\"> ride</span><span style=\"background-color: #FFFDFD\"> for</span><span style=\"background-color: #FFFCFC\"> both</span><span style=\"background-color: #FFFEFE\"> the</span><span style=\"background-color: #FFF8F8\"> characters</span><span style=\"background-color: #FFFEFE\"> and</span><span style=\"background-color: #FFFEFE\"> the</span><span style=\"background-color: #FFFEFE\"> audience</span><span style=\"background-color: #FFFDFD\"> ,</span><span style=\"background-color: #FFFEFE\"> with</span><span style=\"background-color: #FFEDED\"> truth</span><span style=\"background-color: #FFFDFD\"> ,</span><span style=\"background-color: #FFF2F2\"> justice</span><span style=\"background-color: #FFFDFD\"> ,</span><span style=\"background-color: #FFFEFE\"> and</span><span style=\"background-color: #FFF2F2\"> superman</span><span style=\"background-color: #FFE5E5\"> triumphant</span><span style=\"background-color: #FFFBFB\"> at</span><span style=\"background-color: #FFFEFE\"> the</span><span style=\"background-color: #FFEDED\"> end</span><span style=\"background-color: #FFFCFC\"> .</span><span style=\"background-color: #FFFDFD\"> as</span><span style=\"background-color: #FFFBFB\"> they</span><span style=\"background-color: #FFFBFB\"> did</span><span style=\"background-color: #FFFEFE\"> in</span><span style=\"background-color: #FFF9F9\"> all</span><span style=\"background-color: #FFFEFE\"> the</span><span style=\"background-color: #FFFEFE\"> fleischer</span><span style=\"background-color: #FFFCFC\"> famous</span><span style=\"background-color: #FFF4F4\"> superman</span><span style=\"background-color: #FFF7F7\"> cartoons</span><span style=\"background-color: #FFFDFD\"> ,</span><span style=\"background-color: #FFFEFE\"> clayton</span><span style=\"background-color: #FFF8F8\"> bud</span><span style=\"background-color: #FFFDFD\"> <unk></span><span style=\"background-color: #FFFEFE\"> and</span><span style=\"background-color: #FFFAFA\"> joan</span><span style=\"background-color: #FFFCFC\"> alexander</span><span style=\"background-color: #FFFEFE\"> ,</span><span style=\"background-color: #FFFEFE\"> who</span><span style=\"background-color: #FFE0E0\"> played</span><span style=\"background-color: #FFFDFD\"> clark</span><span style=\"background-color: #FFEEEE\"> kent</span><span style=\"background-color: #FFF0F0\"> superman</span><span style=\"background-color: #FFFEFE\"> and</span><span style=\"background-color: #FFFEFE\"> lois</span><span style=\"background-color: #FFFEFE\"> lane</span><span style=\"background-color: #FFFEFE\"> on</span><span style=\"background-color: #FFFCFC\"> radio</span><span style=\"background-color: #FFFDFD\"> ,</span><span style=\"background-color: #FFFBFB\"> have</span><span style=\"background-color: #FFFEFE\"> the</span><span style=\"background-color: #FFEDED\"> voice</span><span style=\"background-color: #FFFCFC\"> work</span><span style=\"background-color: #FFF7F7\"> honors</span><span style=\"background-color: #FFE8E8\"> here</span><span style=\"background-color: #FFFDFD\"> ,</span><span style=\"background-color: #FFFEFE\"> and</span><span style=\"background-color: #FFFDFD\"> fleischer</span><span style=\"background-color: #FFDFDF\"> perennial</span><span style=\"background-color: #FFFDFD\"> jack</span><span style=\"background-color: #FFFEFE\"> <unk></span><span style=\"background-color: #FFF1F1\"> gets</span><span style=\"background-color: #FFFDFD\"> a</span><span style=\"background-color: #FFD3D3\"> little</span><span style=\"background-color: #FFFEFE\"> to</span><span style=\"background-color: #FFFBFB\"> do</span><span style=\"background-color: #FFFDFD\"> as</span><span style=\"background-color: #FFF8F8\"> one</span><span style=\"background-color: #FFFEFE\"> of</span><span style=\"background-color: #FFFEFE\"> the</span><span style=\"background-color: #FF7373\"> bad</span><span style=\"background-color: #FFFBFB\"> guys</span><span style=\"background-color: #FFFDFD\"> ,</span><span style=\"background-color: #FFFDFD\"> as</span><span style=\"background-color: #FFF1F1\"> well</span><span style=\"background-color: #FFFDFD\"> .</span><span style=\"background-color: #FFFDFD\"> <eos></span><span style=\"background-color: #FFFFFF\"> <pad></span><span style=\"background-color: #FFFFFF\"> <pad></span><span style=\"background-color: #FFFFFF\"> <pad></span><span style=\"background-color: #FFFFFF\"> <pad></span><span style=\"background-color: #FFFFFF\"> <pad></span><span style=\"background-color: #FFFFFF\"> <pad></span><span style=\"background-color: #FFFFFF\"> <pad></span><span style=\"background-color: #FFFFFF\"> <pad></span><span style=\"background-color: #FFFFFF\"> <pad></span><span style=\"background-color: #FFFFFF\"> <pad></span><span style=\"background-color: #FFFFFF\"> <pad></span><span style=\"background-color: #FFFFFF\"> <pad></span><span style=\"background-color: #FFFFFF\"> <pad></span><span style=\"background-color: #FFFFFF\"> <pad></span><span style=\"background-color: #FFFFFF\"> <pad></span><span style=\"background-color: #FFFFFF\"> <pad></span><span style=\"background-color: #FFFFFF\"> <pad></span><span style=\"background-color: #FFFFFF\"> <pad></span><span style=\"background-color: #FFFFFF\"> <pad></span><span style=\"background-color: #FFFFFF\"> <pad></span><span style=\"background-color: #FFFFFF\"> <pad></span><span style=\"background-color: #FFFFFF\"> <pad></span><span style=\"background-color: #FFFFFF\"> <pad></span><span style=\"background-color: #FFFFFF\"> <pad></span><span style=\"background-color: #FFFFFF\"> <pad></span><span style=\"background-color: #FFFFFF\"> <pad></span><span style=\"background-color: #FFFFFF\"> <pad></span><span style=\"background-color: #FFFFFF\"> <pad></span><span style=\"background-color: #FFFFFF\"> <pad></span><span style=\"background-color: #FFFFFF\"> <pad></span><span style=\"background-color: #FFFFFF\"> <pad></span><span style=\"background-color: #FFFFFF\"> <pad></span><span style=\"background-color: #FFFFFF\"> <pad></span><span style=\"background-color: #FFFFFF\"> <pad></span><span style=\"background-color: #FFFFFF\"> <pad></span><span style=\"background-color: #FFFFFF\"> <pad></span><span style=\"background-color: #FFFFFF\"> <pad></span><span style=\"background-color: #FFFFFF\"> <pad></span><span style=\"background-color: #FFFFFF\"> <pad></span><span style=\"background-color: #FFFFFF\"> <pad></span><span style=\"background-color: #FFFFFF\"> <pad></span><span style=\"background-color: #FFFFFF\"> <pad></span><span style=\"background-color: #FFFFFF\"> <pad></span><span style=\"background-color: #FFFFFF\"> <pad></span><span style=\"background-color: #FFFFFF\"> <pad></span><span style=\"background-color: #FFFFFF\"> <pad></span><span style=\"background-color: #FFFFFF\"> <pad></span><span style=\"background-color: #FFFFFF\"> <pad></span><span style=\"background-color: #FFFFFF\"> <pad></span><span style=\"background-color: #FFFFFF\"> <pad></span><span style=\"background-color: #FFFFFF\"> <pad></span><span style=\"background-color: #FFFFFF\"> <pad></span><span style=\"background-color: #FFFFFF\"> <pad></span><span style=\"background-color: #FFFFFF\"> <pad></span><span style=\"background-color: #FFFFFF\"> <pad></span><br><br>[TransformerBlockの2段目のAttentionを可視化]<br><span style=\"background-color: #FFFEFE\"> <cls></span><span style=\"background-color: #FFFBFB\"> while</span><span style=\"background-color: #FFFCFC\"> all</span><span style=\"background-color: #FFFDFD\"> of</span><span style=\"background-color: #FFFCFC\"> the</span><span style=\"background-color: #FFFEFE\"> fleischer</span><span style=\"background-color: #FFE0E0\"> famous</span><span style=\"background-color: #FFFEFE\"> studios</span><span style=\"background-color: #FFF0F0\"> superman</span><span style=\"background-color: #FFF9F9\"> cartoons</span><span style=\"background-color: #FFFEFE\"> are</span><span style=\"background-color: #FFF1F1\"> excellent</span><span style=\"background-color: #FFFEFE\"> ,</span><span style=\"background-color: #FFFCFC\"> billion</span><span style=\"background-color: #FFF2F2\"> dollar</span><span style=\"background-color: #FFF9F9\"> limited</span><span style=\"background-color: #FFFEFE\"> ,</span><span style=\"background-color: #FFFDFD\"> the</span><span style=\"background-color: #FFD6D6\"> third</span><span style=\"background-color: #FFFEFE\"> in</span><span style=\"background-color: #FFFDFD\"> the</span><span style=\"background-color: #FFFCFC\"> series</span><span style=\"background-color: #FFFEFE\"> ,</span><span style=\"background-color: #FFFEFE\"> is</span><span style=\"background-color: #FFFDFD\"> probably</span><span style=\"background-color: #FFFEFE\"> the</span><span style=\"background-color: #FFF8F8\"> best</span><span style=\"background-color: #FFFEFE\"> of</span><span style=\"background-color: #FFFDFD\"> the</span><span style=\"background-color: #FFFEFE\"> lot</span><span style=\"background-color: #FFFEFE\"> in</span><span style=\"background-color: #FFFCFC\"> terms</span><span style=\"background-color: #FFFEFE\"> of</span><span style=\"background-color: #FFF9F9\"> overall</span><span style=\"background-color: #FFFDFD\"> animation</span><span style=\"background-color: #FFFEFE\"> ,</span><span style=\"background-color: #FFF6F6\"> plot</span><span style=\"background-color: #FFFEFE\"> ,</span><span style=\"background-color: #FFFEFE\"> and</span><span style=\"background-color: #FFFCFC\"> pacing</span><span style=\"background-color: #FFFEFE\"> .</span><span style=\"background-color: #FFFDFD\"> why</span><span style=\"background-color: #FFFEFE\"> it</span><span style=\"background-color: #FFFDFD\"> wasn</span><span style=\"background-color: #FFFDFD\"> t</span><span style=\"background-color: #FFFEFE\"> even</span><span style=\"background-color: #FFF3F3\"> nominated</span><span style=\"background-color: #FFFEFE\"> for</span><span style=\"background-color: #FFFDFD\"> an</span><span style=\"background-color: #FFFEFE\"> oscar</span><span style=\"background-color: #FFFEFE\"> as</span><span style=\"background-color: #FFFAFA\"> best</span><span style=\"background-color: #FFF8F8\"> animated</span><span style=\"background-color: #FFF7F7\"> short</span><span style=\"background-color: #FFFEFE\"> for</span><span style=\"background-color: #FFFCFC\"> 1942</span><span style=\"background-color: #FFC0C0\"> incredibly</span><span style=\"background-color: #FFEDED\"> enough</span><span style=\"background-color: #FFFEFE\"> ,</span><span style=\"background-color: #FFFDFD\"> only</span><span style=\"background-color: #FFFDFD\"> the</span><span style=\"background-color: #FFFAFA\"> first</span><span style=\"background-color: #FFFDFD\"> one</span><span style=\"background-color: #FFFEFE\"> was</span><span style=\"background-color: #FFFEFE\"> in</span><span style=\"background-color: #FF0000\"> inexplicable</span><span style=\"background-color: #FFFEFE\"> .</span><span style=\"background-color: #FFFEFE\"> here</span><span style=\"background-color: #FFFEFE\"> ,</span><span style=\"background-color: #FFFEFE\"> lois</span><span style=\"background-color: #FFFEFE\"> lane</span><span style=\"background-color: #FFFEFE\"> is</span><span style=\"background-color: #FFFEFE\"> assigned</span><span style=\"background-color: #FFFEFE\"> to</span><span style=\"background-color: #FFFDFD\"> cover</span><span style=\"background-color: #FFFCFC\"> the</span><span style=\"background-color: #FFFEFE\"> transfer</span><span style=\"background-color: #FFFDFD\"> of</span><span style=\"background-color: #FFFEFE\"> one</span><span style=\"background-color: #FFFDFD\"> billion</span><span style=\"background-color: #FFFDFD\"> dollars</span><span style=\"background-color: #FFFEFE\"> in</span><span style=\"background-color: #FFFDFD\"> gold</span><span style=\"background-color: #FFFEFE\"> to</span><span style=\"background-color: #FFFCFC\"> the</span><span style=\"background-color: #FFFEFE\"> u</span><span style=\"background-color: #FFFDFD\"> .</span><span style=\"background-color: #FFFEFE\"> s</span><span style=\"background-color: #FFFEFE\"> .</span><span style=\"background-color: #FFFEFE\"> <unk></span><span style=\"background-color: #FFFEFE\"> .</span><span style=\"background-color: #FFFCFC\"> masked</span><span style=\"background-color: #FFFBFB\"> gangsters</span><span style=\"background-color: #FFFEFE\"> in</span><span style=\"background-color: #FFF9F9\"> their</span><span style=\"background-color: #FFFAFA\"> super</span><span style=\"background-color: #FFFEFE\"> powered</span><span style=\"background-color: #FFFEFE\"> for</span><span style=\"background-color: #FFFBFB\"> 1942</span><span style=\"background-color: #FFFEFE\"> car</span><span style=\"background-color: #FFFEFE\"> take</span><span style=\"background-color: #FFE3E3\"> off</span><span style=\"background-color: #FFFDFD\"> after</span><span style=\"background-color: #FFFDFD\"> the</span><span style=\"background-color: #FFFEFE\"> train</span><span style=\"background-color: #FFFEFE\"> ,</span><span style=\"background-color: #FFFEFE\"> determined</span><span style=\"background-color: #FFFEFE\"> to</span><span style=\"background-color: #FFFEFE\"> get</span><span style=\"background-color: #FFFCFC\"> that</span><span style=\"background-color: #FFFDFD\"> gold</span><span style=\"background-color: #FFFDFD\"> .</span><span style=\"background-color: #FFFCFC\"> without</span><span style=\"background-color: #FFFEFE\"> giving</span><span style=\"background-color: #FFFEFE\"> too</span><span style=\"background-color: #FFFEFE\"> much</span><span style=\"background-color: #FFFEFE\"> away</span><span style=\"background-color: #FFFEFE\"> ,</span><span style=\"background-color: #FFFEFE\"> what</span><span style=\"background-color: #FFB9B9\"> ensues</span><span style=\"background-color: #FFFEFE\"> is</span><span style=\"background-color: #FFF4F4\"> a</span><span style=\"background-color: #FFFEFE\"> thrill</span><span style=\"background-color: #FFFCFC\"> ride</span><span style=\"background-color: #FFFEFE\"> for</span><span style=\"background-color: #FFFEFE\"> both</span><span style=\"background-color: #FFFEFE\"> the</span><span style=\"background-color: #FFFCFC\"> characters</span><span style=\"background-color: #FFFEFE\"> and</span><span style=\"background-color: #FFFEFE\"> the</span><span style=\"background-color: #FFF9F9\"> audience</span><span style=\"background-color: #FFFEFE\"> ,</span><span style=\"background-color: #FFFEFE\"> with</span><span style=\"background-color: #FFFDFD\"> truth</span><span style=\"background-color: #FFFEFE\"> ,</span><span style=\"background-color: #FFFEFE\"> justice</span><span style=\"background-color: #FFFEFE\"> ,</span><span style=\"background-color: #FFFEFE\"> and</span><span style=\"background-color: #FFF7F7\"> superman</span><span style=\"background-color: #FFF8F8\"> triumphant</span><span style=\"background-color: #FFFEFE\"> at</span><span style=\"background-color: #FFFEFE\"> the</span><span style=\"background-color: #FFFDFD\"> end</span><span style=\"background-color: #FFFEFE\"> .</span><span style=\"background-color: #FFFEFE\"> as</span><span style=\"background-color: #FFFEFE\"> they</span><span style=\"background-color: #FFFEFE\"> did</span><span style=\"background-color: #FFFDFD\"> in</span><span style=\"background-color: #FFFCFC\"> all</span><span style=\"background-color: #FFFDFD\"> the</span><span style=\"background-color: #FFFEFE\"> fleischer</span><span style=\"background-color: #FFEBEB\"> famous</span><span style=\"background-color: #FFF5F5\"> superman</span><span style=\"background-color: #FFF9F9\"> cartoons</span><span style=\"background-color: #FFFEFE\"> ,</span><span style=\"background-color: #FFFEFE\"> clayton</span><span style=\"background-color: #FFE9E9\"> bud</span><span style=\"background-color: #FFFCFC\"> <unk></span><span style=\"background-color: #FFFEFE\"> and</span><span style=\"background-color: #FFFEFE\"> joan</span><span style=\"background-color: #FFFEFE\"> alexander</span><span style=\"background-color: #FFFEFE\"> ,</span><span style=\"background-color: #FFFEFE\"> who</span><span style=\"background-color: #FFFEFE\"> played</span><span style=\"background-color: #FFFEFE\"> clark</span><span style=\"background-color: #FFFEFE\"> kent</span><span style=\"background-color: #FFF6F6\"> superman</span><span style=\"background-color: #FFFEFE\"> and</span><span style=\"background-color: #FFFEFE\"> lois</span><span style=\"background-color: #FFFEFE\"> lane</span><span style=\"background-color: #FFFDFD\"> on</span><span style=\"background-color: #FFFEFE\"> radio</span><span style=\"background-color: #FFFEFE\"> ,</span><span style=\"background-color: #FFFEFE\"> have</span><span style=\"background-color: #FFFCFC\"> the</span><span style=\"background-color: #FFFDFD\"> voice</span><span style=\"background-color: #FFFEFE\"> work</span><span style=\"background-color: #FFFDFD\"> honors</span><span style=\"background-color: #FFFEFE\"> here</span><span style=\"background-color: #FFFEFE\"> ,</span><span style=\"background-color: #FFFEFE\"> and</span><span style=\"background-color: #FFFDFD\"> fleischer</span><span style=\"background-color: #FF5454\"> perennial</span><span style=\"background-color: #FFFDFD\"> jack</span><span style=\"background-color: #FFFDFD\"> <unk></span><span style=\"background-color: #FFFEFE\"> gets</span><span style=\"background-color: #FFEAEA\"> a</span><span style=\"background-color: #FFFAFA\"> little</span><span style=\"background-color: #FFFEFE\"> to</span><span style=\"background-color: #FFFEFE\"> do</span><span style=\"background-color: #FFFEFE\"> as</span><span style=\"background-color: #FFFCFC\"> one</span><span style=\"background-color: #FFFDFD\"> of</span><span style=\"background-color: #FFFCFC\"> the</span><span style=\"background-color: #FFDBDB\"> bad</span><span style=\"background-color: #FFFDFD\"> guys</span><span style=\"background-color: #FFFEFE\"> ,</span><span style=\"background-color: #FFFEFE\"> as</span><span style=\"background-color: #FFADAD\"> well</span><span style=\"background-color: #FFFDFD\"> .</span><span style=\"background-color: #FFFEFE\"> <eos></span><span style=\"background-color: #FFFFFF\"> <pad></span><span style=\"background-color: #FFFFFF\"> <pad></span><span style=\"background-color: #FFFFFF\"> <pad></span><span style=\"background-color: #FFFFFF\"> <pad></span><span style=\"background-color: #FFFFFF\"> <pad></span><span style=\"background-color: #FFFFFF\"> <pad></span><span style=\"background-color: #FFFFFF\"> <pad></span><span style=\"background-color: #FFFFFF\"> <pad></span><span style=\"background-color: #FFFFFF\"> <pad></span><span style=\"background-color: #FFFFFF\"> <pad></span><span style=\"background-color: #FFFFFF\"> <pad></span><span style=\"background-color: #FFFFFF\"> <pad></span><span style=\"background-color: #FFFFFF\"> <pad></span><span style=\"background-color: #FFFFFF\"> <pad></span><span style=\"background-color: #FFFFFF\"> <pad></span><span style=\"background-color: #FFFFFF\"> <pad></span><span style=\"background-color: #FFFFFF\"> <pad></span><span style=\"background-color: #FFFFFF\"> <pad></span><span style=\"background-color: #FFFFFF\"> <pad></span><span style=\"background-color: #FFFFFF\"> <pad></span><span style=\"background-color: #FFFFFF\"> <pad></span><span style=\"background-color: #FFFFFF\"> <pad></span><span style=\"background-color: #FFFFFF\"> <pad></span><span style=\"background-color: #FFFFFF\"> <pad></span><span style=\"background-color: #FFFFFF\"> <pad></span><span style=\"background-color: #FFFFFF\"> <pad></span><span style=\"background-color: #FFFFFF\"> <pad></span><span style=\"background-color: #FFFFFF\"> <pad></span><span style=\"background-color: #FFFFFF\"> <pad></span><span style=\"background-color: #FFFFFF\"> <pad></span><span style=\"background-color: #FFFFFF\"> <pad></span><span style=\"background-color: #FFFFFF\"> <pad></span><span style=\"background-color: #FFFFFF\"> <pad></span><span style=\"background-color: #FFFFFF\"> <pad></span><span style=\"background-color: #FFFFFF\"> <pad></span><span style=\"background-color: #FFFFFF\"> <pad></span><span style=\"background-color: #FFFFFF\"> <pad></span><span style=\"background-color: #FFFFFF\"> <pad></span><span style=\"background-color: #FFFFFF\"> <pad></span><span style=\"background-color: #FFFFFF\"> <pad></span><span style=\"background-color: #FFFFFF\"> <pad></span><span style=\"background-color: #FFFFFF\"> <pad></span><span style=\"background-color: #FFFFFF\"> <pad></span><span style=\"background-color: #FFFFFF\"> <pad></span><span style=\"background-color: #FFFFFF\"> <pad></span><span style=\"background-color: #FFFFFF\"> <pad></span><span style=\"background-color: #FFFFFF\"> <pad></span><span style=\"background-color: #FFFFFF\"> <pad></span><span style=\"background-color: #FFFFFF\"> <pad></span><span style=\"background-color: #FFFFFF\"> <pad></span><span style=\"background-color: #FFFFFF\"> <pad></span><span style=\"background-color: #FFFFFF\"> <pad></span><span style=\"background-color: #FFFFFF\"> <pad></span><span style=\"background-color: #FFFFFF\"> <pad></span><span style=\"background-color: #FFFFFF\"> <pad></span><br><br>"
            ],
            "text/plain": [
              "<IPython.core.display.HTML object>"
            ]
          },
          "metadata": {
            "tags": []
          },
          "execution_count": 10
        }
      ]
    },
    {
      "cell_type": "code",
      "metadata": {
        "colab": {
          "base_uri": "https://localhost:8080/"
        },
        "id": "_6m0BrWDKfe7",
        "outputId": "b80170f6-f5fb-477c-bd52-4a5bb427f64e"
      },
      "source": [
        "index = 3  # 出力させたいデータ\n",
        "attens1 = normlized_weights_1[index, 0, :]  # 0番目の<cls>のAttention\n",
        "attens1 /= attens1.max()   \n",
        "print(attens1)\n",
        "print(attens1.size())"
      ],
      "execution_count": null,
      "outputs": [
        {
          "output_type": "stream",
          "text": [
            "tensor([6.1128e-03, 4.7590e-03, 3.1670e-02, 4.9423e-03, 4.2871e-04, 5.7774e-03,\n",
            "        8.8674e-03, 4.5309e-03, 3.5266e-02, 2.4184e-02, 2.5419e-02, 1.0000e+00,\n",
            "        2.5713e-03, 4.9521e-02, 1.2750e-02, 1.7613e-01, 3.0343e-03, 2.5281e-04,\n",
            "        2.3584e-03, 1.6890e-03, 2.7067e-04, 4.0156e-03, 3.8411e-03, 3.7079e-02,\n",
            "        1.0446e-01, 3.1033e-04, 4.3010e-01, 2.5444e-03, 2.4953e-04, 1.5983e-02,\n",
            "        1.4341e-03, 6.2758e-03, 2.9237e-03, 4.1862e-02, 4.2955e-02, 3.6582e-03,\n",
            "        1.2170e-01, 3.0919e-03, 7.8523e-04, 1.5065e-01, 7.3490e-03, 1.7011e-02,\n",
            "        1.1738e-02, 7.8737e-02, 1.0519e-02, 4.4515e-03, 1.8613e-01, 3.6508e-03,\n",
            "        2.4070e-02, 3.7291e-02, 7.7643e-03, 6.7031e-01, 1.0160e-01, 4.1716e-02,\n",
            "        4.8489e-03, 1.0528e-02, 2.9729e-01, 1.0994e-01, 5.0481e-03, 2.5245e-02,\n",
            "        4.7463e-04, 6.6482e-03, 3.4962e-02, 1.4773e-02, 2.3497e-03, 2.6193e-01,\n",
            "        9.0134e-03, 5.2069e-02, 3.1493e-03, 1.7598e-03, 6.7782e-04, 3.1541e-02,\n",
            "        4.3174e-02, 3.5605e-03, 8.1097e-03, 5.5589e-04, 4.4564e-01, 4.1749e-03,\n",
            "        3.1278e-02, 6.6829e-02, 1.8897e-02, 1.8253e-03, 2.6278e-02, 2.3160e-03,\n",
            "        3.5625e-04, 6.7560e-02, 9.1743e-03, 5.4234e-03, 9.9919e-03, 1.0753e-02,\n",
            "        9.8209e-03, 9.5532e-03, 1.1063e-02, 2.0797e-03, 2.3824e-03, 3.7028e-02,\n",
            "        1.1098e-01, 5.9010e-03, 1.3073e-02, 2.2230e-03, 7.2542e-03, 2.1261e-02,\n",
            "        3.9191e-03, 5.8598e-04, 2.8253e-03, 6.3833e-03, 9.4597e-02, 3.2980e-03,\n",
            "        5.8346e-03, 1.1218e-02, 2.8987e-02, 8.3920e-03, 5.3887e-02, 1.7541e-02,\n",
            "        1.1960e-01, 4.5981e-01, 6.5047e-02, 4.0535e-03, 5.8811e-03, 2.1857e-02,\n",
            "        3.4996e-02, 7.6008e-03, 3.2528e-02, 3.1256e-03, 5.8784e-03, 8.5038e-03,\n",
            "        3.8682e-04, 2.7329e-02, 1.2221e-03, 4.9072e-04, 3.2985e-03, 5.2871e-03,\n",
            "        2.9709e-03, 6.9837e-02, 4.4816e-03, 5.0913e-02, 4.9304e-03, 1.5388e-03,\n",
            "        4.8719e-02, 1.0102e-01, 1.2883e-02, 5.3294e-04, 6.6980e-02, 1.0089e-02,\n",
            "        6.6223e-03, 1.2666e-02, 1.2613e-02, 2.4497e-03, 2.1089e-02, 3.3622e-04,\n",
            "        3.8292e-03, 9.5850e-03, 4.0938e-02, 3.0853e-02, 5.1923e-03, 3.1323e-03,\n",
            "        2.4917e-02, 5.3253e-03, 9.0794e-04, 1.9140e-02, 9.1117e-03, 3.3237e-03,\n",
            "        2.9890e-03, 1.1772e-01, 5.9238e-03, 6.4244e-02, 5.5358e-02, 2.3594e-03,\n",
            "        3.5082e-03, 1.3313e-03, 1.6853e-03, 9.6383e-03, 5.7185e-03, 1.5108e-02,\n",
            "        4.3377e-04, 6.6693e-02, 9.9743e-03, 2.7916e-02, 8.9416e-02, 5.8117e-03,\n",
            "        1.4355e-03, 6.7164e-03, 1.2467e-01, 5.7374e-03, 2.5383e-03, 5.1811e-02,\n",
            "        5.6638e-03, 1.6988e-01, 2.0821e-03, 1.4733e-02, 4.4002e-03, 2.6520e-02,\n",
            "        3.6112e-03, 4.1450e-04, 5.4767e-01, 1.2963e-02, 4.3218e-03, 5.1405e-03,\n",
            "        5.1087e-02, 6.9701e-03, 4.9249e-03, 0.0000e+00, 0.0000e+00, 0.0000e+00,\n",
            "        0.0000e+00, 0.0000e+00, 0.0000e+00, 0.0000e+00, 0.0000e+00, 0.0000e+00,\n",
            "        0.0000e+00, 0.0000e+00, 0.0000e+00, 0.0000e+00, 0.0000e+00, 0.0000e+00,\n",
            "        0.0000e+00, 0.0000e+00, 0.0000e+00, 0.0000e+00, 0.0000e+00, 0.0000e+00,\n",
            "        0.0000e+00, 0.0000e+00, 0.0000e+00, 0.0000e+00, 0.0000e+00, 0.0000e+00,\n",
            "        0.0000e+00, 0.0000e+00, 0.0000e+00, 0.0000e+00, 0.0000e+00, 0.0000e+00,\n",
            "        0.0000e+00, 0.0000e+00, 0.0000e+00, 0.0000e+00, 0.0000e+00, 0.0000e+00,\n",
            "        0.0000e+00, 0.0000e+00, 0.0000e+00, 0.0000e+00, 0.0000e+00, 0.0000e+00,\n",
            "        0.0000e+00, 0.0000e+00, 0.0000e+00, 0.0000e+00, 0.0000e+00, 0.0000e+00,\n",
            "        0.0000e+00, 0.0000e+00, 0.0000e+00, 0.0000e+00], device='cuda:0',\n",
            "       grad_fn=<AsStridedBackward>)\n",
            "torch.Size([256])\n"
          ],
          "name": "stdout"
        }
      ]
    },
    {
      "cell_type": "code",
      "metadata": {
        "colab": {
          "base_uri": "https://localhost:8080/",
          "height": 272
        },
        "id": "VaA_uPkqIN3u",
        "outputId": "b61b5040-e8ff-44bb-c077-0a928a2dd67c"
      },
      "source": [
        "index = 24  # 出力させたいデータ\n",
        "html_output = mk_html(index, batch, preds, normlized_weights_1,\n",
        "                      normlized_weights_2, TEXT)  # HTML作成\n",
        "HTML(html_output)  # HTML形式で出力"
      ],
      "execution_count": null,
      "outputs": [
        {
          "output_type": "execute_result",
          "data": {
            "text/html": [
              "正解ラベル：Positive<br>推論ラベル：Positive<br><br>[TransformerBlockの1段目のAttentionを可視化]<br><span style=\"background-color: #FFFBFB\"> <cls></span><span style=\"background-color: #FFFEFE\"> the</span><span style=\"background-color: #FFDFDF\"> animation</span><span style=\"background-color: #FFBBBB\"> quality</span><span style=\"background-color: #FFD6D6\"> here</span><span style=\"background-color: #FFE9E9\"> is</span><span style=\"background-color: #FFB5B5\"> decidedly</span><span style=\"background-color: #FFF9F9\"> below</span><span style=\"background-color: #FFF0F0\"> par</span><span style=\"background-color: #FFAAAA\"> imo</span><span style=\"background-color: #FFFDFD\"> ,</span><span style=\"background-color: #FFFCFC\"> regardless</span><span style=\"background-color: #FFFDFD\"> of</span><span style=\"background-color: #FFFEFE\"> the</span><span style=\"background-color: #FFFDFD\"> age</span><span style=\"background-color: #FFFDFD\"> of</span><span style=\"background-color: #FFFEFE\"> the</span><span style=\"background-color: #FFFDFD\"> <unk></span><span style=\"background-color: #FFFAFA\"> .</span><span style=\"background-color: #FFFEFE\"> the</span><span style=\"background-color: #FFBCBC\"> plot</span><span style=\"background-color: #FFF0F0\"> itself</span><span style=\"background-color: #FFD7D7\"> makes</span><span style=\"background-color: #FFE0E0\"> sense</span><span style=\"background-color: #FFFCFC\"> ,</span><span style=\"background-color: #FFF8F8\"> but</span><span style=\"background-color: #FFFEFE\"> the</span><span style=\"background-color: #FFF1F1\"> characters</span><span style=\"background-color: #FFF1F1\"> don</span><span style=\"background-color: #FFF8F8\"> t</span><span style=\"background-color: #FFFBFB\"> .</span><span style=\"background-color: #FFFAFA\"> this</span><span style=\"background-color: #FFF8F8\"> might</span><span style=\"background-color: #FFC5C5\"> sound</span><span style=\"background-color: #FF5757\"> picky</span><span style=\"background-color: #FFFCFC\"> ,</span><span style=\"background-color: #FFF9F9\"> but</span><span style=\"background-color: #FFE5E5\"> considering</span><span style=\"background-color: #FFFAFA\"> that</span><span style=\"background-color: #FFFEFE\"> the</span><span style=\"background-color: #FFF5F5\"> city</span><span style=\"background-color: #FFFDFD\"> of</span><span style=\"background-color: #FFFCFC\"> <unk></span><span style=\"background-color: #FFEEEE\"> is</span><span style=\"background-color: #FFEEEE\"> almost</span><span style=\"background-color: #FFF9F9\"> exclusively</span><span style=\"background-color: #FF9797\"> populated</span><span style=\"background-color: #FFFBFB\"> by</span><span style=\"background-color: #FFF2F2\"> living</span><span style=\"background-color: #FFEBEB\"> machines</span><span style=\"background-color: #FFFBFB\"> ,</span><span style=\"background-color: #FFFBFB\"> would</span><span style=\"background-color: #FFECEC\"> you</span><span style=\"background-color: #FFEBEB\"> feel</span><span style=\"background-color: #FF7C7C\"> comfortable</span><span style=\"background-color: #FFECEC\"> there</span><span style=\"background-color: #FFFBFB\"> as</span><span style=\"background-color: #FFFBFB\"> a</span><span style=\"background-color: #FFDBDB\"> human</span><span style=\"background-color: #FFFBFB\"> would</span><span style=\"background-color: #FFEBEB\"> any</span><span style=\"background-color: #FFEEEE\"> machine</span><span style=\"background-color: #FFB8B8\"> ever</span><span style=\"background-color: #FFFAFA\"> emulate</span><span style=\"background-color: #FFDFDF\"> human</span><span style=\"background-color: #FFDDDD\"> arrogance</span><span style=\"background-color: #FFFCFC\"> ,</span><span style=\"background-color: #FFEDED\"> short</span><span style=\"background-color: #FFFDFD\"> <unk></span><span style=\"background-color: #FFFEFE\"> and</span><span style=\"background-color: #FFD0D0\"> greed</span><span style=\"background-color: #FFDEDE\"> quite</span><span style=\"background-color: #FFF3F3\"> so</span><span style=\"background-color: #FF8989\"> effectively</span><span style=\"background-color: #FFCCCC\"> i</span><span style=\"background-color: #FFCFCF\"> doubt</span><span style=\"background-color: #FFF3F3\"> it</span><span style=\"background-color: #FFF9F9\"> .</span><span style=\"background-color: #FFECEC\"> there</span><span style=\"background-color: #FFEFEF\"> are</span><span style=\"background-color: #FFFAFA\"> some</span><span style=\"background-color: #FFFCFC\"> <unk></span><span style=\"background-color: #FFF3F3\"> towards</span><span style=\"background-color: #FFF8F8\"> this</span><span style=\"background-color: #FFFDFD\"> in</span><span style=\"background-color: #FFFEFE\"> the</span><span style=\"background-color: #FFF1F1\"> movie</span><span style=\"background-color: #FFFCFC\"> ,</span><span style=\"background-color: #FFF6F6\"> but</span><span style=\"background-color: #FFF2F2\"> only</span><span style=\"background-color: #FFFBFB\"> when</span><span style=\"background-color: #FFFEFE\"> the</span><span style=\"background-color: #FFFDFD\"> team</span><span style=\"background-color: #FFDADA\"> can</span><span style=\"background-color: #FFF5F5\"> be</span><span style=\"background-color: #FF6464\"> bothered</span><span style=\"background-color: #FFFDFD\"> to</span><span style=\"background-color: #FFEDED\"> put</span><span style=\"background-color: #FFFAFA\"> them</span><span style=\"background-color: #FFFDFD\"> in</span><span style=\"background-color: #FFFCFC\"> ,</span><span style=\"background-color: #FFF9F9\"> by</span><span style=\"background-color: #FFFEFE\"> and</span><span style=\"background-color: #FFDBDB\"> large</span><span style=\"background-color: #FFFEFE\"> the</span><span style=\"background-color: #FFF2F2\"> <unk></span><span style=\"background-color: #FFFDFD\"> or</span><span style=\"background-color: #FFFBFB\"> whatever</span><span style=\"background-color: #FFF8F8\"> they</span><span style=\"background-color: #FFEEEE\"> are</span><span style=\"background-color: #FFEEEE\"> are</span><span style=\"background-color: #FFFBFB\"> <unk></span><span style=\"background-color: #FFFDFD\"> with</span><span style=\"background-color: #FFE1E1\"> human</span><span style=\"background-color: #FFEDED\"> characters</span><span style=\"background-color: #FFF9F9\"> .</span><span style=\"background-color: #FFA7A7\"> seems</span><span style=\"background-color: #FFA2A2\"> sloppy</span><span style=\"background-color: #FFFDFD\"> to</span><span style=\"background-color: #FFFDFD\"> me</span><span style=\"background-color: #FFFAFA\"> .</span><span style=\"background-color: #FFFEFE\"> the</span><span style=\"background-color: #FFE2E2\"> main</span><span style=\"background-color: #FFEAEA\"> characters</span><span style=\"background-color: #FFDADA\"> seem</span><span style=\"background-color: #FFFDFD\"> to</span><span style=\"background-color: #FFF8F8\"> have</span><span style=\"background-color: #FFFAFA\"> some</span><span style=\"background-color: #FFABAB\"> kind</span><span style=\"background-color: #FFFCFC\"> of</span><span style=\"background-color: #FFD6D6\"> emotional</span><span style=\"background-color: #FFF7F7\"> <unk></span><span style=\"background-color: #FFFCFC\"> ,</span><span style=\"background-color: #FFF4F4\"> though</span><span style=\"background-color: #FF5F5F\"> no</span><span style=\"background-color: #FF9B9B\"> light</span><span style=\"background-color: #FFE6E6\"> is</span><span style=\"background-color: #FFA0A0\"> shed</span><span style=\"background-color: #FFFEFE\"> on</span><span style=\"background-color: #FFF5F5\"> this</span><span style=\"background-color: #FFF8F8\"> .</span><span style=\"background-color: #FF7D7D\"> little</span><span style=\"background-color: #FF9494\"> light</span><span style=\"background-color: #FFE7E7\"> is</span><span style=\"background-color: #FFA7A7\"> shed</span><span style=\"background-color: #FFFEFE\"> on</span><span style=\"background-color: #FFFEFE\"> the</span><span style=\"background-color: #FFDCDC\"> backstory</span><span style=\"background-color: #FFF9F9\"> at</span><span style=\"background-color: #FFF4F4\"> all</span><span style=\"background-color: #FFFDFD\"> ,</span><span style=\"background-color: #FFFBFB\"> a</span><span style=\"background-color: #FF5555\"> great</span><span style=\"background-color: #FFACAC\"> pity</span><span style=\"background-color: #FFF8F8\"> .</span><span style=\"background-color: #FFFEFE\"> the</span><span style=\"background-color: #FFEAEA\"> short</span><span style=\"background-color: #FFFBFB\"> length</span><span style=\"background-color: #FFFDFD\"> of</span><span style=\"background-color: #FFFEFE\"> the</span><span style=\"background-color: #FFF7F7\"> film</span><span style=\"background-color: #FFF5F5\"> coupled</span><span style=\"background-color: #FFFDFD\"> with</span><span style=\"background-color: #FFFEFE\"> the</span><span style=\"background-color: #FFE7E7\"> focus</span><span style=\"background-color: #FFFEFE\"> on</span><span style=\"background-color: #FFE4E4\"> mecha</span><span style=\"background-color: #FFFDFD\"> and</span><span style=\"background-color: #FFFEFE\"> the</span><span style=\"background-color: #FFF2F2\"> crime</span><span style=\"background-color: #FFBDBD\"> means</span><span style=\"background-color: #FFF5F5\"> that</span><span style=\"background-color: #FFD3D3\"> we</span><span style=\"background-color: #FFEBEB\"> don</span><span style=\"background-color: #FFF5F5\"> t</span><span style=\"background-color: #FFF9F9\"> see</span><span style=\"background-color: #FFEDED\"> any</span><span style=\"background-color: #FFFAFA\"> character</span><span style=\"background-color: #FFA0A0\"> depth</span><span style=\"background-color: #FFF7F7\"> .</span><span style=\"background-color: #FFFEFE\"> the</span><span style=\"background-color: #FFFBFB\"> <unk></span><span style=\"background-color: #FFFCFC\"> s</span><span style=\"background-color: #FFF6F6\"> all</span><span style=\"background-color: #FFF9F9\"> down</span><span style=\"background-color: #FFFDFD\"> ,</span><span style=\"background-color: #FFCBCB\"> yet</span><span style=\"background-color: #FFE0E0\"> we</span><span style=\"background-color: #FFD7D7\"> re</span><span style=\"background-color: #FFDFDF\"> left</span><span style=\"background-color: #FFFDFD\"> with</span><span style=\"background-color: #FF7777\"> no</span><span style=\"background-color: #FFE5E5\"> finished</span><span style=\"background-color: #FFF3F3\"> product</span><span style=\"background-color: #FFF9F9\"> .</span><span style=\"background-color: #FFFAFA\"> a</span><span style=\"background-color: #FFFAFA\"> <unk></span><span style=\"background-color: #FFF8F8\"> version</span><span style=\"background-color: #FFFDFD\"> of</span><span style=\"background-color: #FFF9F9\"> this</span><span style=\"background-color: #FFFCFC\"> <unk></span><span style=\"background-color: #FFFCFC\"> would</span><span style=\"background-color: #FFF6F6\"> have</span><span style=\"background-color: #FFF2F2\"> made</span><span style=\"background-color: #FFF8F8\"> a</span><span style=\"background-color: #FF0000\"> great</span><span style=\"background-color: #FFF7F7\"> tv</span><span style=\"background-color: #FFEAEA\"> episode</span><span style=\"background-color: #FFFBFB\"> ,</span><span style=\"background-color: #FFF4F4\"> once</span><span style=\"background-color: #FFF5F5\"> some</span><span style=\"background-color: #FFF9F9\"> character</span><span style=\"background-color: #FFD4D4\"> sub</span><span style=\"background-color: #FFB7B7\"> plots</span><span style=\"background-color: #FFEFEF\"> had</span><span style=\"background-color: #FFE5E5\"> been</span><span style=\"background-color: #FFAAAA\"> established</span><span style=\"background-color: #FFF8F8\"> .</span><span style=\"background-color: #FFFEFE\"> the</span><span style=\"background-color: #FF6E6E\"> highlights</span><span style=\"background-color: #FFFCFC\"> of</span><span style=\"background-color: #FFF6F6\"> this</span><span style=\"background-color: #FFE8E8\"> short</span><span style=\"background-color: #FFF4F4\"> film</span><span style=\"background-color: #FFECEC\"> are</span><span style=\"background-color: #FFFEFE\"> the</span><span style=\"background-color: #FFEAEA\"> mecha</span><span style=\"background-color: #FFFEFE\"> designs</span><span style=\"background-color: #FFFEFE\"> and</span><span style=\"background-color: #FFFEFE\"> the</span><span style=\"background-color: #FFD7D7\"> action</span><span style=\"background-color: #FFF7F7\"> espionage</span><span style=\"background-color: #FFFBFB\"> .</span><span style=\"background-color: #FFFEFE\"> the</span><span style=\"background-color: #FFB8B8\"> flaws</span><span style=\"background-color: #FFBEBE\"> really</span><span style=\"background-color: #FFF2F2\"> start</span><span style=\"background-color: #FFFDFD\"> to</span><span style=\"background-color: #FFF9F9\"> show</span><span style=\"background-color: #FFFAFA\"> through</span><span style=\"background-color: #FFF7F7\"> once</span><span style=\"background-color: #FFECEC\"> you</span><span style=\"background-color: #FFB3B3\"> ve</span><span style=\"background-color: #FFEBEB\"> had</span><span style=\"background-color: #FFF9F9\"> a</span><span style=\"background-color: #FFF5F5\"> chance</span><span style=\"background-color: #FFFCFC\"> to</span><span style=\"background-color: #FFDCDC\"> digest</span><span style=\"background-color: #FFE9E9\"> all</span><span style=\"background-color: #FFFEFE\"> the</span><span style=\"background-color: #FF8282\"> goings</span><span style=\"background-color: #FFFEFE\"> on</span><span style=\"background-color: #FFFCFC\"> ,</span><span style=\"background-color: #FFF4F4\"> so</span><span style=\"background-color: #FFDCDC\"> i</span><span style=\"background-color: #FFFBFB\"> <eos></span><br><br>[TransformerBlockの2段目のAttentionを可視化]<br><span style=\"background-color: #FFFEFE\"> <cls></span><span style=\"background-color: #FFFEFE\"> the</span><span style=\"background-color: #FFFEFE\"> animation</span><span style=\"background-color: #FFFEFE\"> quality</span><span style=\"background-color: #FFFEFE\"> here</span><span style=\"background-color: #FFFEFE\"> is</span><span style=\"background-color: #FFFCFC\"> decidedly</span><span style=\"background-color: #FFFEFE\"> below</span><span style=\"background-color: #FFFEFE\"> par</span><span style=\"background-color: #FFFEFE\"> imo</span><span style=\"background-color: #FFFEFE\"> ,</span><span style=\"background-color: #FFFEFE\"> regardless</span><span style=\"background-color: #FFFEFE\"> of</span><span style=\"background-color: #FFFEFE\"> the</span><span style=\"background-color: #FFFEFE\"> age</span><span style=\"background-color: #FFFEFE\"> of</span><span style=\"background-color: #FFFEFE\"> the</span><span style=\"background-color: #FFFEFE\"> <unk></span><span style=\"background-color: #FFFEFE\"> .</span><span style=\"background-color: #FFFEFE\"> the</span><span style=\"background-color: #FFFEFE\"> plot</span><span style=\"background-color: #FFFEFE\"> itself</span><span style=\"background-color: #FFFEFE\"> makes</span><span style=\"background-color: #FFFEFE\"> sense</span><span style=\"background-color: #FFFEFE\"> ,</span><span style=\"background-color: #FFFEFE\"> but</span><span style=\"background-color: #FFFEFE\"> the</span><span style=\"background-color: #FFFEFE\"> characters</span><span style=\"background-color: #FFFEFE\"> don</span><span style=\"background-color: #FFFEFE\"> t</span><span style=\"background-color: #FFFEFE\"> .</span><span style=\"background-color: #FFFEFE\"> this</span><span style=\"background-color: #FFFEFE\"> might</span><span style=\"background-color: #FFFEFE\"> sound</span><span style=\"background-color: #FFFCFC\"> picky</span><span style=\"background-color: #FFFEFE\"> ,</span><span style=\"background-color: #FFFEFE\"> but</span><span style=\"background-color: #FFFEFE\"> considering</span><span style=\"background-color: #FFFEFE\"> that</span><span style=\"background-color: #FFFEFE\"> the</span><span style=\"background-color: #FFFEFE\"> city</span><span style=\"background-color: #FFFEFE\"> of</span><span style=\"background-color: #FFFEFE\"> <unk></span><span style=\"background-color: #FFFEFE\"> is</span><span style=\"background-color: #FFFEFE\"> almost</span><span style=\"background-color: #FFFEFE\"> exclusively</span><span style=\"background-color: #FFFBFB\"> populated</span><span style=\"background-color: #FFFEFE\"> by</span><span style=\"background-color: #FFFEFE\"> living</span><span style=\"background-color: #FFFEFE\"> machines</span><span style=\"background-color: #FFFEFE\"> ,</span><span style=\"background-color: #FFFEFE\"> would</span><span style=\"background-color: #FFFEFE\"> you</span><span style=\"background-color: #FFFEFE\"> feel</span><span style=\"background-color: #FFFEFE\"> comfortable</span><span style=\"background-color: #FFFEFE\"> there</span><span style=\"background-color: #FFFEFE\"> as</span><span style=\"background-color: #FFFEFE\"> a</span><span style=\"background-color: #FFFEFE\"> human</span><span style=\"background-color: #FFFEFE\"> would</span><span style=\"background-color: #FFFEFE\"> any</span><span style=\"background-color: #FFFEFE\"> machine</span><span style=\"background-color: #FFFEFE\"> ever</span><span style=\"background-color: #FFFEFE\"> emulate</span><span style=\"background-color: #FFFEFE\"> human</span><span style=\"background-color: #FFEFEF\"> arrogance</span><span style=\"background-color: #FFFEFE\"> ,</span><span style=\"background-color: #FFFEFE\"> short</span><span style=\"background-color: #FFFEFE\"> <unk></span><span style=\"background-color: #FFFEFE\"> and</span><span style=\"background-color: #FFFEFE\"> greed</span><span style=\"background-color: #FFFEFE\"> quite</span><span style=\"background-color: #FFFEFE\"> so</span><span style=\"background-color: #FFFEFE\"> effectively</span><span style=\"background-color: #FFFEFE\"> i</span><span style=\"background-color: #FFFEFE\"> doubt</span><span style=\"background-color: #FFFEFE\"> it</span><span style=\"background-color: #FFFEFE\"> .</span><span style=\"background-color: #FFFEFE\"> there</span><span style=\"background-color: #FFFEFE\"> are</span><span style=\"background-color: #FFFEFE\"> some</span><span style=\"background-color: #FFFEFE\"> <unk></span><span style=\"background-color: #FFFEFE\"> towards</span><span style=\"background-color: #FFFEFE\"> this</span><span style=\"background-color: #FFFEFE\"> in</span><span style=\"background-color: #FFFEFE\"> the</span><span style=\"background-color: #FFFEFE\"> movie</span><span style=\"background-color: #FFFEFE\"> ,</span><span style=\"background-color: #FFFEFE\"> but</span><span style=\"background-color: #FFFEFE\"> only</span><span style=\"background-color: #FFFEFE\"> when</span><span style=\"background-color: #FFFEFE\"> the</span><span style=\"background-color: #FFFEFE\"> team</span><span style=\"background-color: #FFFEFE\"> can</span><span style=\"background-color: #FFFEFE\"> be</span><span style=\"background-color: #FFFEFE\"> bothered</span><span style=\"background-color: #FFFEFE\"> to</span><span style=\"background-color: #FFFEFE\"> put</span><span style=\"background-color: #FFFEFE\"> them</span><span style=\"background-color: #FFFEFE\"> in</span><span style=\"background-color: #FFFEFE\"> ,</span><span style=\"background-color: #FFFEFE\"> by</span><span style=\"background-color: #FFFEFE\"> and</span><span style=\"background-color: #FFF9F9\"> large</span><span style=\"background-color: #FFFEFE\"> the</span><span style=\"background-color: #FFFEFE\"> <unk></span><span style=\"background-color: #FFFEFE\"> or</span><span style=\"background-color: #FFFEFE\"> whatever</span><span style=\"background-color: #FFFEFE\"> they</span><span style=\"background-color: #FFFEFE\"> are</span><span style=\"background-color: #FFFEFE\"> are</span><span style=\"background-color: #FFFEFE\"> <unk></span><span style=\"background-color: #FFFEFE\"> with</span><span style=\"background-color: #FFFEFE\"> human</span><span style=\"background-color: #FFFEFE\"> characters</span><span style=\"background-color: #FFFEFE\"> .</span><span style=\"background-color: #FFFEFE\"> seems</span><span style=\"background-color: #FFD9D9\"> sloppy</span><span style=\"background-color: #FFFEFE\"> to</span><span style=\"background-color: #FFFEFE\"> me</span><span style=\"background-color: #FFFEFE\"> .</span><span style=\"background-color: #FFFEFE\"> the</span><span style=\"background-color: #FFFEFE\"> main</span><span style=\"background-color: #FFFEFE\"> characters</span><span style=\"background-color: #FFFEFE\"> seem</span><span style=\"background-color: #FFFEFE\"> to</span><span style=\"background-color: #FFFEFE\"> have</span><span style=\"background-color: #FFFEFE\"> some</span><span style=\"background-color: #FFFEFE\"> kind</span><span style=\"background-color: #FFFEFE\"> of</span><span style=\"background-color: #FFFEFE\"> emotional</span><span style=\"background-color: #FFFEFE\"> <unk></span><span style=\"background-color: #FFFEFE\"> ,</span><span style=\"background-color: #FFFEFE\"> though</span><span style=\"background-color: #FFFEFE\"> no</span><span style=\"background-color: #FFFEFE\"> light</span><span style=\"background-color: #FFFEFE\"> is</span><span style=\"background-color: #FFFEFE\"> shed</span><span style=\"background-color: #FFFEFE\"> on</span><span style=\"background-color: #FFFEFE\"> this</span><span style=\"background-color: #FFFEFE\"> .</span><span style=\"background-color: #FFFEFE\"> little</span><span style=\"background-color: #FFFEFE\"> light</span><span style=\"background-color: #FFFEFE\"> is</span><span style=\"background-color: #FFFEFE\"> shed</span><span style=\"background-color: #FFFEFE\"> on</span><span style=\"background-color: #FFFEFE\"> the</span><span style=\"background-color: #FFFCFC\"> backstory</span><span style=\"background-color: #FFFEFE\"> at</span><span style=\"background-color: #FFFEFE\"> all</span><span style=\"background-color: #FFFEFE\"> ,</span><span style=\"background-color: #FFFEFE\"> a</span><span style=\"background-color: #FFFBFB\"> great</span><span style=\"background-color: #FFF8F8\"> pity</span><span style=\"background-color: #FFFEFE\"> .</span><span style=\"background-color: #FFFEFE\"> the</span><span style=\"background-color: #FFFEFE\"> short</span><span style=\"background-color: #FFFEFE\"> length</span><span style=\"background-color: #FFFEFE\"> of</span><span style=\"background-color: #FFFEFE\"> the</span><span style=\"background-color: #FFFEFE\"> film</span><span style=\"background-color: #FFFEFE\"> coupled</span><span style=\"background-color: #FFFEFE\"> with</span><span style=\"background-color: #FFFEFE\"> the</span><span style=\"background-color: #FFFEFE\"> focus</span><span style=\"background-color: #FFFEFE\"> on</span><span style=\"background-color: #FFFEFE\"> mecha</span><span style=\"background-color: #FFFEFE\"> and</span><span style=\"background-color: #FFFEFE\"> the</span><span style=\"background-color: #FFFEFE\"> crime</span><span style=\"background-color: #FFFEFE\"> means</span><span style=\"background-color: #FFFEFE\"> that</span><span style=\"background-color: #FFFEFE\"> we</span><span style=\"background-color: #FFFEFE\"> don</span><span style=\"background-color: #FFFEFE\"> t</span><span style=\"background-color: #FFFEFE\"> see</span><span style=\"background-color: #FFFEFE\"> any</span><span style=\"background-color: #FFFEFE\"> character</span><span style=\"background-color: #FFFEFE\"> depth</span><span style=\"background-color: #FFFEFE\"> .</span><span style=\"background-color: #FFFEFE\"> the</span><span style=\"background-color: #FFFEFE\"> <unk></span><span style=\"background-color: #FFFEFE\"> s</span><span style=\"background-color: #FFFEFE\"> all</span><span style=\"background-color: #FFFEFE\"> down</span><span style=\"background-color: #FFFEFE\"> ,</span><span style=\"background-color: #FFFEFE\"> yet</span><span style=\"background-color: #FFFEFE\"> we</span><span style=\"background-color: #FFFEFE\"> re</span><span style=\"background-color: #FFFEFE\"> left</span><span style=\"background-color: #FFFEFE\"> with</span><span style=\"background-color: #FFFDFD\"> no</span><span style=\"background-color: #FFFEFE\"> finished</span><span style=\"background-color: #FFFEFE\"> product</span><span style=\"background-color: #FFFEFE\"> .</span><span style=\"background-color: #FFFEFE\"> a</span><span style=\"background-color: #FFFEFE\"> <unk></span><span style=\"background-color: #FFFEFE\"> version</span><span style=\"background-color: #FFFEFE\"> of</span><span style=\"background-color: #FFFEFE\"> this</span><span style=\"background-color: #FFFEFE\"> <unk></span><span style=\"background-color: #FFFEFE\"> would</span><span style=\"background-color: #FFFEFE\"> have</span><span style=\"background-color: #FFFEFE\"> made</span><span style=\"background-color: #FFFEFE\"> a</span><span style=\"background-color: #FFFBFB\"> great</span><span style=\"background-color: #FFFEFE\"> tv</span><span style=\"background-color: #FFFEFE\"> episode</span><span style=\"background-color: #FFFEFE\"> ,</span><span style=\"background-color: #FFFEFE\"> once</span><span style=\"background-color: #FFFEFE\"> some</span><span style=\"background-color: #FFFEFE\"> character</span><span style=\"background-color: #FFFEFE\"> sub</span><span style=\"background-color: #FFFEFE\"> plots</span><span style=\"background-color: #FFFEFE\"> had</span><span style=\"background-color: #FFFEFE\"> been</span><span style=\"background-color: #FFFEFE\"> established</span><span style=\"background-color: #FFFEFE\"> .</span><span style=\"background-color: #FFFEFE\"> the</span><span style=\"background-color: #FFFEFE\"> highlights</span><span style=\"background-color: #FFFEFE\"> of</span><span style=\"background-color: #FFFEFE\"> this</span><span style=\"background-color: #FFFEFE\"> short</span><span style=\"background-color: #FFFEFE\"> film</span><span style=\"background-color: #FFFEFE\"> are</span><span style=\"background-color: #FFFEFE\"> the</span><span style=\"background-color: #FFFEFE\"> mecha</span><span style=\"background-color: #FFFEFE\"> designs</span><span style=\"background-color: #FFFEFE\"> and</span><span style=\"background-color: #FFFEFE\"> the</span><span style=\"background-color: #FFFEFE\"> action</span><span style=\"background-color: #FFFEFE\"> espionage</span><span style=\"background-color: #FFFEFE\"> .</span><span style=\"background-color: #FFFEFE\"> the</span><span style=\"background-color: #FF0000\"> flaws</span><span style=\"background-color: #FFFEFE\"> really</span><span style=\"background-color: #FFFEFE\"> start</span><span style=\"background-color: #FFFEFE\"> to</span><span style=\"background-color: #FFFEFE\"> show</span><span style=\"background-color: #FFFEFE\"> through</span><span style=\"background-color: #FFFEFE\"> once</span><span style=\"background-color: #FFFEFE\"> you</span><span style=\"background-color: #FFFEFE\"> ve</span><span style=\"background-color: #FFFEFE\"> had</span><span style=\"background-color: #FFFEFE\"> a</span><span style=\"background-color: #FFFEFE\"> chance</span><span style=\"background-color: #FFFEFE\"> to</span><span style=\"background-color: #FFFEFE\"> digest</span><span style=\"background-color: #FFFEFE\"> all</span><span style=\"background-color: #FFFEFE\"> the</span><span style=\"background-color: #FFFEFE\"> goings</span><span style=\"background-color: #FFFEFE\"> on</span><span style=\"background-color: #FFFEFE\"> ,</span><span style=\"background-color: #FFFEFE\"> so</span><span style=\"background-color: #FFFEFE\"> i</span><span style=\"background-color: #FFFEFE\"> <eos></span><br><br>"
            ],
            "text/plain": [
              "<IPython.core.display.HTML object>"
            ]
          },
          "metadata": {
            "tags": []
          },
          "execution_count": 16
        }
      ]
    },
    {
      "cell_type": "code",
      "metadata": {
        "id": "-n1LQ7FHIWge"
      },
      "source": [
        ""
      ],
      "execution_count": null,
      "outputs": []
    }
  ]
}